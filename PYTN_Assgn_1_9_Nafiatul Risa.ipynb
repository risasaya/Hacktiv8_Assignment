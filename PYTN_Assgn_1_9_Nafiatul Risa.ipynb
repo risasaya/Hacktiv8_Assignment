{
 "cells": [
  {
   "cell_type": "markdown",
   "id": "45f1750b",
   "metadata": {},
   "source": [
    "# Assignment 1 Visualization using Python"
   ]
  },
  {
   "cell_type": "markdown",
   "id": "666b1208",
   "metadata": {},
   "source": [
    "**Nama : Nafiatul Risa**\n",
    "\n",
    "**Kode : PYTN-KS09-022**"
   ]
  },
  {
   "cell_type": "markdown",
   "id": "60f5803c",
   "metadata": {},
   "source": [
    "# Project Overview"
   ]
  },
  {
   "cell_type": "markdown",
   "id": "e7040b82",
   "metadata": {},
   "source": [
    "The aim of this projects is to introduce data visualization with Python as concrete and as consistent as possible. Using London Crime Dataset from Kaggle. This dataset is a record of crime in major metropolitan areas, such as London, occurs in distinct patterns. This data covers the number of criminal reports by month, LSOA borough, and major/minor category from Jan 2008-Dec 2016.\n",
    "\n",
    "This dataset contains:\n",
    "- lsoa_code: this represents a policing area\n",
    "- borough: the london borough for which the statistic is related\n",
    "- major_category: the major crime category\n",
    "- minor_category: the minor crime category\n",
    "- value: the count of the crime for that particular borough, in that particular month\n",
    "- year: the year of the summary statistic\n",
    "- month: the month of the summary statistic\n",
    "\n",
    "This task requires to formulate questions and derive statistical hypothesis tests to answer these questions. And must be able to make decisions using scientific data. And most importantly, Visualized the data."
   ]
  },
  {
   "cell_type": "markdown",
   "id": "77cd5962",
   "metadata": {},
   "source": [
    "# Project Rubric"
   ]
  },
  {
   "cell_type": "markdown",
   "id": "d94664a0",
   "metadata": {},
   "source": [
    "**Code Review** \n",
    "\n",
    "| **Criteria** | **Meet Expectations** |\n",
    "| :------------ | :--------------------- |\n",
    "| Area Plot | Mengimplementasikan Area Plot Menggunakan `Matplotlib` Dengan Data Yang Relevan Dan Sesuai Dengan Kegunaan Plot/Grafik |\n",
    "| Histogram | Mengimplementasikan Histogram Menggunakan `Matplotlib` Dengan Data Yang Relevan Dan Sesuai Dengan Kegunaan Plot/Grafik. |\n",
    "| Bar Chart | Mengimplementasikan Bar Chart Menggunakan `Matplotlib` Dengan Data Yang Relevan Dan Sesuai Dengan Kegunaan Plot/Grafik. |\n",
    "| Pie Chart | Mengimplementasikan Pie Chart Menggunakan `Matplotlib` Dengan Data Yang Relevan Dan Sesuai Dengan Kegunaan Plot/Grafik. |\n",
    "| Box Plot | Mengimplementasikan Box Plot Menggunakan `Matplotlib` Dengan Data Yang Relevan Dan Sesuai Dengan Kegunaan Plot/Grafik. |\n",
    "| Scatter Plot | Mengimplementasikan Scatter Plot Menggunakan `Matplotlib` Dengan Data Yang Relevan Dan Sesuai Dengan Kegunaan Plot/Grafik. |\n",
    "| Word Clouds | Mengimplementasikan Word Clouds Menggunakan `Wordclouds` Library Dengan Data Yang Relevan Dan Sesuai Dengan Kegunaan Plot/Grafik. |\n",
    "| Folium Maps | Mengimplementasikan London Maps Menggunakan `Folium`. |\n",
    "| Preprocessing | Student Melakukan Preproses Dataset Sebelum Menerapkan Visualisasi. |\n",
    "| Apakah Kode Berjalan Tanpa Ada Eror? | Seluruh Kode Berfungsi Dan Dibuat Dengan Benar. |\n"
   ]
  },
  {
   "cell_type": "markdown",
   "id": "966f5dd5",
   "metadata": {},
   "source": [
    "**Readability**\n",
    "\n",
    "| **Criteria** | **Meet Expectations** |\n",
    "| :------------ | :--------------------- |\n",
    "| Tertata Dengan Baik | Semua Cell Di Notebook Terdokumentasi Dengan Baik Dengan Markdown Pada Tiap Cell Untuk Penjelasan Kode. |"
   ]
  },
  {
   "cell_type": "markdown",
   "id": "1e921cf9",
   "metadata": {},
   "source": [
    "**Analysis**\n",
    "\n",
    "| **Criteria** | **Meet Expectations** |\n",
    "| :------------ | :--------------------- |\n",
    "| Area Plot | Menarik Informasi/Kesimpulan Berdasarkan Area Plot Yang Telah Student Buat |\n",
    "| Histogram | Menarik Informasi/Kesimpulan Berdasarkan Histogram Yang Telah Student Buat |\n",
    "| Bar Chart | Menarik Informasi/Kesimpulan Berdasarkan Bar Chart Yang Telah Student Buat |\n",
    "| Pie Chart | Menarik Informasi/Kesimpulan Berdasarkan Pie Chart Yang Telah Student Buat |\n",
    "| Box Plot | Menarik Informasi/Kesimpulan Berdasarkan Box Plot Yang Telah Student Buat |\n",
    "| Scatter | Plot Menarik Informasi/Kesimpulan Berdasarkan Scatter Plot Yang Telah Student Buat |\n",
    "| Overall | Analysis Menarik Informasi/Kesimpulan Dari Keseluruhan Plot Yang Dapat Menjawab Hipotesis. |"
   ]
  },
  {
   "cell_type": "markdown",
   "id": "a6ba217c",
   "metadata": {},
   "source": [
    "# A. Import Required Libraries"
   ]
  },
  {
   "cell_type": "code",
   "execution_count": 2,
   "id": "c8e05b30",
   "metadata": {},
   "outputs": [],
   "source": [
    "# Pemrosesan Data\n",
    "import numpy as np\n",
    "import pandas as pd \n",
    "\n",
    "# Visualisasi Data\n",
    "import folium\n",
    "import seaborn as sns\n",
    "import matplotlib as mpl\n",
    "import matplotlib.pyplot as plt\n",
    "%matplotlib inline\n",
    "from wordcloud import WordCloud, STOPWORDS"
   ]
  },
  {
   "cell_type": "markdown",
   "id": "49d25d80",
   "metadata": {},
   "source": [
    "# B. Data Preprocessing"
   ]
  },
  {
   "cell_type": "code",
   "execution_count": 3,
   "id": "80a69b50",
   "metadata": {
    "scrolled": true
   },
   "outputs": [
    {
     "data": {
      "text/html": [
       "<div>\n",
       "<style scoped>\n",
       "    .dataframe tbody tr th:only-of-type {\n",
       "        vertical-align: middle;\n",
       "    }\n",
       "\n",
       "    .dataframe tbody tr th {\n",
       "        vertical-align: top;\n",
       "    }\n",
       "\n",
       "    .dataframe thead th {\n",
       "        text-align: right;\n",
       "    }\n",
       "</style>\n",
       "<table border=\"1\" class=\"dataframe\">\n",
       "  <thead>\n",
       "    <tr style=\"text-align: right;\">\n",
       "      <th></th>\n",
       "      <th>lsoa_code</th>\n",
       "      <th>borough</th>\n",
       "      <th>major_category</th>\n",
       "      <th>minor_category</th>\n",
       "      <th>value</th>\n",
       "      <th>year</th>\n",
       "      <th>month</th>\n",
       "    </tr>\n",
       "  </thead>\n",
       "  <tbody>\n",
       "    <tr>\n",
       "      <th>0</th>\n",
       "      <td>E01001116</td>\n",
       "      <td>Croydon</td>\n",
       "      <td>Burglary</td>\n",
       "      <td>Burglary in Other Buildings</td>\n",
       "      <td>0</td>\n",
       "      <td>2016</td>\n",
       "      <td>11</td>\n",
       "    </tr>\n",
       "    <tr>\n",
       "      <th>1</th>\n",
       "      <td>E01001646</td>\n",
       "      <td>Greenwich</td>\n",
       "      <td>Violence Against the Person</td>\n",
       "      <td>Other violence</td>\n",
       "      <td>0</td>\n",
       "      <td>2016</td>\n",
       "      <td>11</td>\n",
       "    </tr>\n",
       "    <tr>\n",
       "      <th>2</th>\n",
       "      <td>E01000677</td>\n",
       "      <td>Bromley</td>\n",
       "      <td>Violence Against the Person</td>\n",
       "      <td>Other violence</td>\n",
       "      <td>0</td>\n",
       "      <td>2015</td>\n",
       "      <td>5</td>\n",
       "    </tr>\n",
       "    <tr>\n",
       "      <th>3</th>\n",
       "      <td>E01003774</td>\n",
       "      <td>Redbridge</td>\n",
       "      <td>Burglary</td>\n",
       "      <td>Burglary in Other Buildings</td>\n",
       "      <td>0</td>\n",
       "      <td>2016</td>\n",
       "      <td>3</td>\n",
       "    </tr>\n",
       "    <tr>\n",
       "      <th>4</th>\n",
       "      <td>E01004563</td>\n",
       "      <td>Wandsworth</td>\n",
       "      <td>Robbery</td>\n",
       "      <td>Personal Property</td>\n",
       "      <td>0</td>\n",
       "      <td>2008</td>\n",
       "      <td>6</td>\n",
       "    </tr>\n",
       "    <tr>\n",
       "      <th>...</th>\n",
       "      <td>...</td>\n",
       "      <td>...</td>\n",
       "      <td>...</td>\n",
       "      <td>...</td>\n",
       "      <td>...</td>\n",
       "      <td>...</td>\n",
       "      <td>...</td>\n",
       "    </tr>\n",
       "    <tr>\n",
       "      <th>13490599</th>\n",
       "      <td>E01000504</td>\n",
       "      <td>Brent</td>\n",
       "      <td>Criminal Damage</td>\n",
       "      <td>Criminal Damage To Dwelling</td>\n",
       "      <td>0</td>\n",
       "      <td>2015</td>\n",
       "      <td>2</td>\n",
       "    </tr>\n",
       "    <tr>\n",
       "      <th>13490600</th>\n",
       "      <td>E01002504</td>\n",
       "      <td>Hillingdon</td>\n",
       "      <td>Robbery</td>\n",
       "      <td>Personal Property</td>\n",
       "      <td>1</td>\n",
       "      <td>2015</td>\n",
       "      <td>6</td>\n",
       "    </tr>\n",
       "    <tr>\n",
       "      <th>13490601</th>\n",
       "      <td>E01004165</td>\n",
       "      <td>Sutton</td>\n",
       "      <td>Burglary</td>\n",
       "      <td>Burglary in a Dwelling</td>\n",
       "      <td>0</td>\n",
       "      <td>2011</td>\n",
       "      <td>2</td>\n",
       "    </tr>\n",
       "    <tr>\n",
       "      <th>13490602</th>\n",
       "      <td>E01001134</td>\n",
       "      <td>Croydon</td>\n",
       "      <td>Robbery</td>\n",
       "      <td>Business Property</td>\n",
       "      <td>0</td>\n",
       "      <td>2011</td>\n",
       "      <td>5</td>\n",
       "    </tr>\n",
       "    <tr>\n",
       "      <th>13490603</th>\n",
       "      <td>E01003413</td>\n",
       "      <td>Merton</td>\n",
       "      <td>Violence Against the Person</td>\n",
       "      <td>Wounding/GBH</td>\n",
       "      <td>0</td>\n",
       "      <td>2015</td>\n",
       "      <td>6</td>\n",
       "    </tr>\n",
       "  </tbody>\n",
       "</table>\n",
       "<p>13490604 rows × 7 columns</p>\n",
       "</div>"
      ],
      "text/plain": [
       "          lsoa_code     borough               major_category  \\\n",
       "0         E01001116     Croydon                     Burglary   \n",
       "1         E01001646   Greenwich  Violence Against the Person   \n",
       "2         E01000677     Bromley  Violence Against the Person   \n",
       "3         E01003774   Redbridge                     Burglary   \n",
       "4         E01004563  Wandsworth                      Robbery   \n",
       "...             ...         ...                          ...   \n",
       "13490599  E01000504       Brent              Criminal Damage   \n",
       "13490600  E01002504  Hillingdon                      Robbery   \n",
       "13490601  E01004165      Sutton                     Burglary   \n",
       "13490602  E01001134     Croydon                      Robbery   \n",
       "13490603  E01003413      Merton  Violence Against the Person   \n",
       "\n",
       "                       minor_category  value  year  month  \n",
       "0         Burglary in Other Buildings      0  2016     11  \n",
       "1                      Other violence      0  2016     11  \n",
       "2                      Other violence      0  2015      5  \n",
       "3         Burglary in Other Buildings      0  2016      3  \n",
       "4                   Personal Property      0  2008      6  \n",
       "...                               ...    ...   ...    ...  \n",
       "13490599  Criminal Damage To Dwelling      0  2015      2  \n",
       "13490600            Personal Property      1  2015      6  \n",
       "13490601       Burglary in a Dwelling      0  2011      2  \n",
       "13490602            Business Property      0  2011      5  \n",
       "13490603                 Wounding/GBH      0  2015      6  \n",
       "\n",
       "[13490604 rows x 7 columns]"
      ]
     },
     "execution_count": 3,
     "metadata": {},
     "output_type": "execute_result"
    }
   ],
   "source": [
    "df = pd.read_csv('london_crime_by_lsoa.csv') \n",
    "df"
   ]
  },
  {
   "cell_type": "code",
   "execution_count": 4,
   "id": "5df02c6d",
   "metadata": {},
   "outputs": [],
   "source": [
    "# Ganti nama kolom untuk memudahkan dalam memahami data\n",
    "df = df.rename(\n",
    "    columns={\n",
    "        'lsoa_code': 'Kode Area',\n",
    "        'borough': 'Wilayah',\n",
    "        'major_category': 'Major Category',\n",
    "        'minor_category': 'Minor Category',\n",
    "        'value': 'Jumlah Kejahatan',\n",
    "        'year': 'Year',\n",
    "        'month': 'Month'\n",
    "    },\n",
    ")"
   ]
  },
  {
   "cell_type": "code",
   "execution_count": 5,
   "id": "a95504e8",
   "metadata": {},
   "outputs": [
    {
     "name": "stdout",
     "output_type": "stream",
     "text": [
      "Dimensi data:\n",
      "13490604 baris\n",
      "7 kolom\n"
     ]
    }
   ],
   "source": [
    "#Dimension of dataframe\n",
    "rows, columns = df.shape\n",
    "print(\"Dimensi data:\")\n",
    "print(rows, \"baris\")\n",
    "print(columns, \"kolom\")"
   ]
  },
  {
   "cell_type": "code",
   "execution_count": 6,
   "id": "4bf90e2a",
   "metadata": {},
   "outputs": [
    {
     "name": "stdout",
     "output_type": "stream",
     "text": [
      "<class 'pandas.core.frame.DataFrame'>\n",
      "RangeIndex: 13490604 entries, 0 to 13490603\n",
      "Data columns (total 7 columns):\n",
      " #   Column            Dtype \n",
      "---  ------            ----- \n",
      " 0   Kode Area         object\n",
      " 1   Wilayah           object\n",
      " 2   Major Category    object\n",
      " 3   Minor Category    object\n",
      " 4   Jumlah Kejahatan  int64 \n",
      " 5   Year              int64 \n",
      " 6   Month             int64 \n",
      "dtypes: int64(3), object(4)\n",
      "memory usage: 720.5+ MB\n"
     ]
    }
   ],
   "source": [
    "df.info()"
   ]
  },
  {
   "cell_type": "code",
   "execution_count": 7,
   "id": "b7b14937",
   "metadata": {},
   "outputs": [
    {
     "name": "stdout",
     "output_type": "stream",
     "text": [
      "Jumlah Missing Value tiap column: \n"
     ]
    },
    {
     "data": {
      "text/plain": [
       "Kode Area           0\n",
       "Wilayah             0\n",
       "Major Category      0\n",
       "Minor Category      0\n",
       "Jumlah Kejahatan    0\n",
       "Year                0\n",
       "Month               0\n",
       "dtype: int64"
      ]
     },
     "execution_count": 7,
     "metadata": {},
     "output_type": "execute_result"
    }
   ],
   "source": [
    "print('Jumlah Missing Value tiap column: ')\n",
    "df.isnull().sum() #Check if any column has null values"
   ]
  },
  {
   "cell_type": "code",
   "execution_count": 8,
   "id": "84c029a3",
   "metadata": {},
   "outputs": [
    {
     "name": "stdout",
     "output_type": "stream",
     "text": [
      "Jumlah Duplicate Data  0\n"
     ]
    }
   ],
   "source": [
    "print('Jumlah Duplicate Data ', df.duplicated().sum()) #Check duplicate data"
   ]
  },
  {
   "cell_type": "markdown",
   "id": "d863ba49",
   "metadata": {},
   "source": [
    "**Analisis :** \n",
    "\n",
    "Data asli dari London Crime Dataset berisi 13.490.604 baris dan 7 kolom. Dengan kolom lsoa_code, borough, major_category, minor_category, value, year, dan month. Agar lebih mudah dalam memahami data, saya merubah nama kolom menjadi Kode Area, Wilayah, Major Category, Minor Category, Jumlah Kejahatan, Year, dan Month. \n",
    "Dari dataset london terdapat data types int64(3) dan object(4), serta menggunakan memory 720.5+ MB. \n",
    "Tidak ada data yang kosong atau null value dari london crime dataset. Data juga tidak terdapat duplicate sehingga data sudah siap untuk dilakukan visualisasi."
   ]
  },
  {
   "cell_type": "code",
   "execution_count": 9,
   "id": "34ae0b65",
   "metadata": {},
   "outputs": [
    {
     "data": {
      "text/plain": [
       "Kode Area           4835\n",
       "Wilayah               33\n",
       "Major Category         9\n",
       "Minor Category        32\n",
       "Jumlah Kejahatan     247\n",
       "Year                   9\n",
       "Month                 12\n",
       "dtype: int64"
      ]
     },
     "execution_count": 9,
     "metadata": {},
     "output_type": "execute_result"
    }
   ],
   "source": [
    "# Melihat data yang unik\n",
    "df.nunique()"
   ]
  },
  {
   "cell_type": "code",
   "execution_count": 10,
   "id": "ad710265",
   "metadata": {},
   "outputs": [
    {
     "name": "stdout",
     "output_type": "stream",
     "text": [
      "Nilai Unique Kolom Wilayah : ['Croydon' 'Greenwich' 'Bromley' 'Redbridge' 'Wandsworth' 'Ealing'\n",
      " 'Hounslow' 'Newham' 'Sutton' 'Haringey' 'Lambeth' 'Richmond upon Thames'\n",
      " 'Hillingdon' 'Havering' 'Barking and Dagenham' 'Kingston upon Thames'\n",
      " 'Westminster' 'Hackney' 'Enfield' 'Harrow' 'Lewisham' 'Brent' 'Southwark'\n",
      " 'Barnet' 'Waltham Forest' 'Camden' 'Bexley' 'Kensington and Chelsea'\n",
      " 'Islington' 'Tower Hamlets' 'Hammersmith and Fulham' 'Merton'\n",
      " 'City of London'] \n",
      "\n",
      "Nilai Unique Kolom Major Category : ['Burglary' 'Violence Against the Person' 'Robbery' 'Theft and Handling'\n",
      " 'Criminal Damage' 'Drugs' 'Fraud or Forgery' 'Other Notifiable Offences'\n",
      " 'Sexual Offences'] \n",
      "\n",
      "Nilai Unique Kolom Minor Category : ['Burglary in Other Buildings' 'Other violence' 'Personal Property'\n",
      " 'Other Theft' 'Offensive Weapon' 'Criminal Damage To Other Building'\n",
      " 'Theft/Taking of Pedal Cycle' 'Motor Vehicle Interference & Tampering'\n",
      " 'Theft/Taking Of Motor Vehicle' 'Wounding/GBH' 'Other Theft Person'\n",
      " 'Common Assault' 'Theft From Shops' 'Possession Of Drugs' 'Harassment'\n",
      " 'Handling Stolen Goods' 'Criminal Damage To Dwelling'\n",
      " 'Burglary in a Dwelling' 'Criminal Damage To Motor Vehicle'\n",
      " 'Other Criminal Damage' 'Counted per Victim' 'Going Equipped'\n",
      " 'Other Fraud & Forgery' 'Assault with Injury' 'Drug Trafficking'\n",
      " 'Other Drugs' 'Business Property' 'Other Notifiable' 'Other Sexual'\n",
      " 'Theft From Motor Vehicle' 'Rape' 'Murder'] \n",
      "\n",
      "Nilai Unique Kolom Jumlah Kejahatan : [  0   1   2   3   4   9   5   6   7  10  18  11  16   8  72  12  53  14\n",
      "  19  15  17  20  43  50  37  57  21  13  80  25  28  22  58  33  29  38\n",
      "  88  23 111  40  39  60  26  48  32  66 122  47  30 118  75  54  51  67\n",
      "  45  35  24 117  27  68  99  65  84  34  55  81 112 119  71 113  36  61\n",
      "  46  31  59  44 149  49 241 104  69  77  41  64  42 167  73  74 165 107\n",
      "  86  52  63  79 103 106  70  90  91 148 130  62 136  98  92 141  78  82\n",
      "  56 194 168 152 204 114 153 116 157 131 120  96 101  97  95 309 142  87\n",
      " 146 195  93 166 144  94 161 135 170  76 127 210  83 150 186 156 124  85\n",
      " 174 221 163 109 110  89 115 138 140 121 139 105 129 177 237 235 226 199\n",
      " 240 189 280 100 102 288 134 244 211 158 187 137 123 164 108 224 201 233\n",
      " 132 220 126 154 133 257 178 214 147 229 176 202 230 155 162 160 203 248\n",
      " 215 172 192 208 232 197 173 216 205 180 151 184 179 243 188 228 159 254\n",
      " 267 247 196 181 193 260 169 281 212 183 128 217 143 239 200 249 125 253\n",
      " 145 185 190 286 258 182 175 198 262 251 236 300 218] \n",
      "\n",
      "Nilai Unique Kolom Tahun : [2016 2015 2008 2012 2010 2013 2014 2011 2009] \n",
      "\n",
      "Nilai Unique Kolom Bulan : [11  5  3  6  7  4  9  8 12  1 10  2]\n"
     ]
    }
   ],
   "source": [
    "print('Nilai Unique Kolom Wilayah :',df.Wilayah.unique(), '\\n')\n",
    "print('Nilai Unique Kolom Major Category :',df['Major Category'].unique(), '\\n')\n",
    "print('Nilai Unique Kolom Minor Category :',df['Minor Category'].unique(), '\\n')\n",
    "print('Nilai Unique Kolom Jumlah Kejahatan :',df['Jumlah Kejahatan'].unique(), '\\n')\n",
    "print('Nilai Unique Kolom Tahun :',df.Year.unique(), '\\n')\n",
    "print('Nilai Unique Kolom Bulan :',df.Month.unique())"
   ]
  },
  {
   "cell_type": "markdown",
   "id": "1739486f",
   "metadata": {},
   "source": [
    "**Analisis :**\n",
    "\n",
    "Masing-masing kolom memiliki nilai unik yaitu :\n",
    "- Kode Area           4835\n",
    "- Wilayah               33\n",
    "- Major Category         9\n",
    "- Minor Category        32\n",
    "- Jumlah Kejahatan     247\n",
    "- Year                   9\n",
    "- Month                 12"
   ]
  },
  {
   "cell_type": "markdown",
   "id": "1fc0cd08",
   "metadata": {},
   "source": [
    "**Sebelum melakukan visualisasi data, saya akan membuat list dari years, wilayah, major category dan month dari data unique London Crime Data agar memudahkan saya dalam membuat visualisasi nantinya.**"
   ]
  },
  {
   "cell_type": "code",
   "execution_count": 11,
   "id": "1db8cd8a",
   "metadata": {},
   "outputs": [],
   "source": [
    "# menyiapkan list 'Tahun' untuk keperluan berikutnya\n",
    "years = list(map(int,np.sort(df['Year'].unique())))\n",
    "\n",
    "# menyiapkan list 'Wilayah' untuk keperluan berikutnya\n",
    "boroughs = list(df['Wilayah'].unique())\n",
    "\n",
    "# menyiapkan list 'Major Category' untuk keperluan berikutnya\n",
    "major_categories = list(df['Major Category'].unique())\n",
    "\n",
    "# Menyiapkan range list untuk months\n",
    "months = list(range(1,13))"
   ]
  },
  {
   "cell_type": "markdown",
   "id": "96aca4f9",
   "metadata": {},
   "source": [
    "# C. Visualization"
   ]
  },
  {
   "cell_type": "markdown",
   "id": "7dfd9562",
   "metadata": {
    "id": "7dfd9562"
   },
   "source": [
    "---\n",
    "## A. Area Plot"
   ]
  },
  {
   "cell_type": "markdown",
   "id": "8df186fc",
   "metadata": {
    "id": "8df186fc"
   },
   "source": [
    "**Question** : *Berapakah perubahan jumlah kejadian kejahatan dari tahun 2008 ke tahun 2016 berdasarkan Major Category?* "
   ]
  },
  {
   "cell_type": "markdown",
   "id": "dbc535b3",
   "metadata": {
    "id": "dbc535b3"
   },
   "source": [
    "**Pre-processing as needed** "
   ]
  },
  {
   "cell_type": "code",
   "execution_count": 12,
   "id": "ceb78fdb",
   "metadata": {
    "id": "ceb78fdb"
   },
   "outputs": [
    {
     "data": {
      "text/html": [
       "<div>\n",
       "<style scoped>\n",
       "    .dataframe tbody tr th:only-of-type {\n",
       "        vertical-align: middle;\n",
       "    }\n",
       "\n",
       "    .dataframe tbody tr th {\n",
       "        vertical-align: top;\n",
       "    }\n",
       "\n",
       "    .dataframe thead th {\n",
       "        text-align: right;\n",
       "    }\n",
       "</style>\n",
       "<table border=\"1\" class=\"dataframe\">\n",
       "  <thead>\n",
       "    <tr style=\"text-align: right;\">\n",
       "      <th></th>\n",
       "      <th>2008</th>\n",
       "      <th>2009</th>\n",
       "      <th>2010</th>\n",
       "      <th>2011</th>\n",
       "      <th>2012</th>\n",
       "      <th>2013</th>\n",
       "      <th>2014</th>\n",
       "      <th>2015</th>\n",
       "      <th>2016</th>\n",
       "      <th>Total</th>\n",
       "    </tr>\n",
       "  </thead>\n",
       "  <tbody>\n",
       "    <tr>\n",
       "      <th>Burglary</th>\n",
       "      <td>88092</td>\n",
       "      <td>90619</td>\n",
       "      <td>86826</td>\n",
       "      <td>93315</td>\n",
       "      <td>93392</td>\n",
       "      <td>87222</td>\n",
       "      <td>76053</td>\n",
       "      <td>70489</td>\n",
       "      <td>68285</td>\n",
       "      <td>754293</td>\n",
       "    </tr>\n",
       "    <tr>\n",
       "      <th>Violence Against the Person</th>\n",
       "      <td>159844</td>\n",
       "      <td>160777</td>\n",
       "      <td>157894</td>\n",
       "      <td>146901</td>\n",
       "      <td>150014</td>\n",
       "      <td>146181</td>\n",
       "      <td>185349</td>\n",
       "      <td>218740</td>\n",
       "      <td>232381</td>\n",
       "      <td>1558081</td>\n",
       "    </tr>\n",
       "    <tr>\n",
       "      <th>Robbery</th>\n",
       "      <td>29627</td>\n",
       "      <td>29568</td>\n",
       "      <td>32341</td>\n",
       "      <td>36679</td>\n",
       "      <td>35260</td>\n",
       "      <td>29337</td>\n",
       "      <td>22150</td>\n",
       "      <td>21383</td>\n",
       "      <td>22528</td>\n",
       "      <td>258873</td>\n",
       "    </tr>\n",
       "    <tr>\n",
       "      <th>Theft and Handling</th>\n",
       "      <td>283692</td>\n",
       "      <td>279492</td>\n",
       "      <td>290924</td>\n",
       "      <td>309292</td>\n",
       "      <td>334054</td>\n",
       "      <td>306372</td>\n",
       "      <td>279880</td>\n",
       "      <td>284022</td>\n",
       "      <td>294133</td>\n",
       "      <td>2661861</td>\n",
       "    </tr>\n",
       "    <tr>\n",
       "      <th>Criminal Damage</th>\n",
       "      <td>91872</td>\n",
       "      <td>85565</td>\n",
       "      <td>77897</td>\n",
       "      <td>70914</td>\n",
       "      <td>62158</td>\n",
       "      <td>56206</td>\n",
       "      <td>59279</td>\n",
       "      <td>62976</td>\n",
       "      <td>64071</td>\n",
       "      <td>630938</td>\n",
       "    </tr>\n",
       "    <tr>\n",
       "      <th>Drugs</th>\n",
       "      <td>68804</td>\n",
       "      <td>60549</td>\n",
       "      <td>58674</td>\n",
       "      <td>57550</td>\n",
       "      <td>51776</td>\n",
       "      <td>50278</td>\n",
       "      <td>44435</td>\n",
       "      <td>39785</td>\n",
       "      <td>38914</td>\n",
       "      <td>470765</td>\n",
       "    </tr>\n",
       "    <tr>\n",
       "      <th>Fraud or Forgery</th>\n",
       "      <td>5325</td>\n",
       "      <td>0</td>\n",
       "      <td>0</td>\n",
       "      <td>0</td>\n",
       "      <td>0</td>\n",
       "      <td>0</td>\n",
       "      <td>0</td>\n",
       "      <td>0</td>\n",
       "      <td>0</td>\n",
       "      <td>5325</td>\n",
       "    </tr>\n",
       "    <tr>\n",
       "      <th>Other Notifiable Offences</th>\n",
       "      <td>10112</td>\n",
       "      <td>10644</td>\n",
       "      <td>10768</td>\n",
       "      <td>10264</td>\n",
       "      <td>10675</td>\n",
       "      <td>10811</td>\n",
       "      <td>13037</td>\n",
       "      <td>14229</td>\n",
       "      <td>15809</td>\n",
       "      <td>106349</td>\n",
       "    </tr>\n",
       "    <tr>\n",
       "      <th>Sexual Offences</th>\n",
       "      <td>1273</td>\n",
       "      <td>0</td>\n",
       "      <td>0</td>\n",
       "      <td>0</td>\n",
       "      <td>0</td>\n",
       "      <td>0</td>\n",
       "      <td>0</td>\n",
       "      <td>0</td>\n",
       "      <td>0</td>\n",
       "      <td>1273</td>\n",
       "    </tr>\n",
       "  </tbody>\n",
       "</table>\n",
       "</div>"
      ],
      "text/plain": [
       "                               2008    2009    2010    2011    2012    2013  \\\n",
       "Burglary                      88092   90619   86826   93315   93392   87222   \n",
       "Violence Against the Person  159844  160777  157894  146901  150014  146181   \n",
       "Robbery                       29627   29568   32341   36679   35260   29337   \n",
       "Theft and Handling           283692  279492  290924  309292  334054  306372   \n",
       "Criminal Damage               91872   85565   77897   70914   62158   56206   \n",
       "Drugs                         68804   60549   58674   57550   51776   50278   \n",
       "Fraud or Forgery               5325       0       0       0       0       0   \n",
       "Other Notifiable Offences     10112   10644   10768   10264   10675   10811   \n",
       "Sexual Offences                1273       0       0       0       0       0   \n",
       "\n",
       "                               2014    2015    2016    Total  \n",
       "Burglary                      76053   70489   68285   754293  \n",
       "Violence Against the Person  185349  218740  232381  1558081  \n",
       "Robbery                       22150   21383   22528   258873  \n",
       "Theft and Handling           279880  284022  294133  2661861  \n",
       "Criminal Damage               59279   62976   64071   630938  \n",
       "Drugs                         44435   39785   38914   470765  \n",
       "Fraud or Forgery                  0       0       0     5325  \n",
       "Other Notifiable Offences     13037   14229   15809   106349  \n",
       "Sexual Offences                   0       0       0     1273  "
      ]
     },
     "execution_count": 12,
     "metadata": {},
     "output_type": "execute_result"
    }
   ],
   "source": [
    "# Membuat data untuk kebutuhan area plot\n",
    "area = {}\n",
    "for year in years:\n",
    "    major_per_tahun = df[\n",
    "        df['Year'] == year\n",
    "    ].groupby('Major Category')['Jumlah Kejahatan'].sum()\n",
    "\n",
    "    # Series untuk dataframe baru\n",
    "    area[year] = pd.Series(\n",
    "        data=map(int, major_per_tahun.reset_index()\n",
    "                 ['Jumlah Kejahatan'].values),\n",
    "        index=major_per_tahun.index\n",
    "    )\n",
    "\n",
    "# Membuat dataframe baru \n",
    "df_area = pd.DataFrame(\n",
    "    columns=years,\n",
    "    index=major_categories,\n",
    "    data=area\n",
    ")\n",
    "\n",
    "# Menambahkan kolom Total\n",
    "df_area['Total'] = df_area[years].sum(axis=1)\n",
    "\n",
    "# Tampilkan data\n",
    "df_area"
   ]
  },
  {
   "cell_type": "markdown",
   "id": "7f60908c",
   "metadata": {
    "id": "7f60908c"
   },
   "source": [
    "**Create data visualization** "
   ]
  },
  {
   "cell_type": "code",
   "execution_count": 13,
   "id": "9d09cb07",
   "metadata": {
    "id": "9d09cb07"
   },
   "outputs": [
    {
     "data": {
      "image/png": "[encoded data removed]",
      "text/plain": [
       "<Figure size 936x576 with 1 Axes>"
      ]
     },
     "metadata": {
      "needs_background": "light"
     },
     "output_type": "display_data"
    }
   ],
   "source": [
    "df_area = df_area[years]. transpose()\n",
    "df_area.plot(\n",
    "    kind='area',\n",
    "    stacked=False,\n",
    "    figsize=(13,8),\n",
    ")\n",
    "\n",
    "plt.title('Major Crime Categories Number of Crimes in London (2008 - 2016)', fontsize=16, y=1.04)\n",
    "plt.xlabel('Years', fontsize=12)\n",
    "plt.ylabel('Number of Major Crime', fontsize=12)\n",
    "plt.legend(loc='upper right', fontsize=9)\n",
    "\n",
    "# Tampilkan area plot\n",
    "plt.show()"
   ]
  },
  {
   "cell_type": "markdown",
   "id": "a712ad87",
   "metadata": {
    "id": "a712ad87"
   },
   "source": [
    "**Conclusion**\n",
    "\n"
   ]
  },
  {
   "cell_type": "markdown",
   "id": "2d30010e",
   "metadata": {
    "id": "e2834d89"
   },
   "source": [
    "Dari plot area diatas, didapatkan informasi bahwa:\n",
    "1. Terdapat 9 Major Category yaitu 'Burglary' 'Violence Against the Person' 'Robbery' 'Theft and Handling' 'Criminal Damage' 'Drugs' 'Fraud or Forgery' 'Other Notifiable Offences' 'Sexual Offences'\n",
    "2. Theft and Handling menjadi kasus terbanyak yang terjadi dari tahun 2008-2016 dengan jumlah kasus pertahun mencapai lebih dari 27000 kasus. Total kasus Theft and Handling selama 2008-2016 sejumlah 2.661.861 kasus. \n",
    "3. Theft and handling paling parah terjadi pada tahun 2012 yang mencapai lebih dari 33000 kasus pada tahun tersebut. \n",
    "4. Violence Against the Person menduduki kasus kedua terbanyak setelah Theft and Handling dengan jumlah kasus 1.558.081. Kasus ini terus meningkat sejak tahun 2013."
   ]
  },
  {
   "cell_type": "markdown",
   "id": "4a193849",
   "metadata": {
    "id": "4a193849"
   },
   "source": [
    "---\n",
    "## B. Histogram"
   ]
  },
  {
   "cell_type": "markdown",
   "id": "ad9d93c9",
   "metadata": {},
   "source": [
    "**Question** : *Wilayah manakah yang Jumlah kejahatan paling tinggi diantara tahun 2008-2016? Bagaimana distribusi 3 wilayah dengan jumlah kejahatan tertinggi untuk tahun 2008-2016?*"
   ]
  },
  {
   "cell_type": "markdown",
   "id": "3e1ef61e",
   "metadata": {
    "id": "4d31ef2a"
   },
   "source": [
    "**Pre-processing as needed**"
   ]
  },
  {
   "cell_type": "code",
   "execution_count": 14,
   "id": "7f4c45c0",
   "metadata": {
    "scrolled": true
   },
   "outputs": [
    {
     "data": {
      "text/plain": [
       "Year\n",
       "2008    738641\n",
       "2009    717214\n",
       "2010    715324\n",
       "2011    724915\n",
       "2012    737329\n",
       "2013    686407\n",
       "2014    680183\n",
       "2015    711624\n",
       "2016    736121\n",
       "Name: Jumlah Kejahatan, dtype: int64"
      ]
     },
     "execution_count": 14,
     "metadata": {},
     "output_type": "execute_result"
    }
   ],
   "source": [
    "df.groupby(['Year']).sum()['Jumlah Kejahatan']"
   ]
  },
  {
   "cell_type": "markdown",
   "id": "c0666b34",
   "metadata": {},
   "source": [
    "Jumlah kejahatan tertinggi yaitu pada tahun 2012, dengan jumlah 737.329 kasus. "
   ]
  },
  {
   "cell_type": "code",
   "execution_count": 15,
   "id": "58d1ad96",
   "metadata": {},
   "outputs": [
    {
     "data": {
      "text/html": [
       "<div>\n",
       "<style scoped>\n",
       "    .dataframe tbody tr th:only-of-type {\n",
       "        vertical-align: middle;\n",
       "    }\n",
       "\n",
       "    .dataframe tbody tr th {\n",
       "        vertical-align: top;\n",
       "    }\n",
       "\n",
       "    .dataframe thead th {\n",
       "        text-align: right;\n",
       "    }\n",
       "</style>\n",
       "<table border=\"1\" class=\"dataframe\">\n",
       "  <thead>\n",
       "    <tr style=\"text-align: right;\">\n",
       "      <th></th>\n",
       "      <th>2008</th>\n",
       "      <th>2009</th>\n",
       "      <th>2010</th>\n",
       "      <th>2011</th>\n",
       "      <th>2012</th>\n",
       "      <th>2013</th>\n",
       "      <th>2014</th>\n",
       "      <th>2015</th>\n",
       "      <th>2016</th>\n",
       "      <th>Total</th>\n",
       "    </tr>\n",
       "  </thead>\n",
       "  <tbody>\n",
       "    <tr>\n",
       "      <th>Westminster</th>\n",
       "      <td>47846</td>\n",
       "      <td>48456</td>\n",
       "      <td>48116</td>\n",
       "      <td>54243</td>\n",
       "      <td>59226</td>\n",
       "      <td>53852</td>\n",
       "      <td>47564</td>\n",
       "      <td>47395</td>\n",
       "      <td>48330</td>\n",
       "      <td>455028</td>\n",
       "    </tr>\n",
       "    <tr>\n",
       "      <th>Lambeth</th>\n",
       "      <td>31717</td>\n",
       "      <td>31225</td>\n",
       "      <td>31671</td>\n",
       "      <td>33224</td>\n",
       "      <td>33473</td>\n",
       "      <td>31868</td>\n",
       "      <td>31765</td>\n",
       "      <td>33164</td>\n",
       "      <td>34071</td>\n",
       "      <td>292178</td>\n",
       "    </tr>\n",
       "    <tr>\n",
       "      <th>Southwark</th>\n",
       "      <td>33470</td>\n",
       "      <td>30623</td>\n",
       "      <td>31320</td>\n",
       "      <td>30723</td>\n",
       "      <td>30737</td>\n",
       "      <td>31128</td>\n",
       "      <td>28912</td>\n",
       "      <td>30260</td>\n",
       "      <td>31636</td>\n",
       "      <td>278809</td>\n",
       "    </tr>\n",
       "    <tr>\n",
       "      <th>Camden</th>\n",
       "      <td>32010</td>\n",
       "      <td>31612</td>\n",
       "      <td>31804</td>\n",
       "      <td>33956</td>\n",
       "      <td>31472</td>\n",
       "      <td>28435</td>\n",
       "      <td>27198</td>\n",
       "      <td>29477</td>\n",
       "      <td>29183</td>\n",
       "      <td>275147</td>\n",
       "    </tr>\n",
       "    <tr>\n",
       "      <th>Newham</th>\n",
       "      <td>29752</td>\n",
       "      <td>28610</td>\n",
       "      <td>30728</td>\n",
       "      <td>27978</td>\n",
       "      <td>30067</td>\n",
       "      <td>27577</td>\n",
       "      <td>28005</td>\n",
       "      <td>29217</td>\n",
       "      <td>30090</td>\n",
       "      <td>262024</td>\n",
       "    </tr>\n",
       "  </tbody>\n",
       "</table>\n",
       "</div>"
      ],
      "text/plain": [
       "              2008   2009   2010   2011   2012   2013   2014   2015   2016  \\\n",
       "Westminster  47846  48456  48116  54243  59226  53852  47564  47395  48330   \n",
       "Lambeth      31717  31225  31671  33224  33473  31868  31765  33164  34071   \n",
       "Southwark    33470  30623  31320  30723  30737  31128  28912  30260  31636   \n",
       "Camden       32010  31612  31804  33956  31472  28435  27198  29477  29183   \n",
       "Newham       29752  28610  30728  27978  30067  27577  28005  29217  30090   \n",
       "\n",
       "              Total  \n",
       "Westminster  455028  \n",
       "Lambeth      292178  \n",
       "Southwark    278809  \n",
       "Camden       275147  \n",
       "Newham       262024  "
      ]
     },
     "execution_count": 15,
     "metadata": {},
     "output_type": "execute_result"
    }
   ],
   "source": [
    "# Membuat data untuk kebutuhan histogram\n",
    "histo = {}\n",
    "for year in years:\n",
    "    wilayah_per_year = df[\n",
    "        df['Year'] == year\n",
    "    ].groupby('Wilayah')['Jumlah Kejahatan'].sum()\n",
    "    \n",
    "    # Series untuk dataframe baru\n",
    "    histo[year] = pd.Series(\n",
    "        data=map(int, wilayah_per_year.reset_index()['Jumlah Kejahatan'].values),\n",
    "        index=wilayah_per_year.index\n",
    "    )\n",
    "\n",
    "# Membuat dataframe baru\n",
    "df_histo = pd.DataFrame(\n",
    "    columns=years,\n",
    "    index=boroughs,\n",
    "    data=histo\n",
    ")\n",
    "df_histo['Total'] = df_histo[years].sum(axis=1)\n",
    "\n",
    "# Urutkan data Total' secara descending\n",
    "df_histo.sort_values(by='Total', ascending=False, inplace=True)\n",
    "\n",
    "# Tampilkan data\n",
    "df_histo.head()"
   ]
  },
  {
   "cell_type": "markdown",
   "id": "c2102300",
   "metadata": {},
   "source": [
    "3 Wilayah dengan total kejahatan tertinggi yaitu Westminster, Lambeth, dan Southwark."
   ]
  },
  {
   "cell_type": "markdown",
   "id": "0be2df29",
   "metadata": {
    "id": "54184f49"
   },
   "source": [
    "**Create Visualization**"
   ]
  },
  {
   "cell_type": "code",
   "execution_count": 16,
   "id": "48652749",
   "metadata": {},
   "outputs": [
    {
     "data": {
      "text/html": [
       "<div>\n",
       "<style scoped>\n",
       "    .dataframe tbody tr th:only-of-type {\n",
       "        vertical-align: middle;\n",
       "    }\n",
       "\n",
       "    .dataframe tbody tr th {\n",
       "        vertical-align: top;\n",
       "    }\n",
       "\n",
       "    .dataframe thead th {\n",
       "        text-align: right;\n",
       "    }\n",
       "</style>\n",
       "<table border=\"1\" class=\"dataframe\">\n",
       "  <thead>\n",
       "    <tr style=\"text-align: right;\">\n",
       "      <th></th>\n",
       "      <th>Westminster</th>\n",
       "      <th>Lambeth</th>\n",
       "      <th>Southwark</th>\n",
       "    </tr>\n",
       "  </thead>\n",
       "  <tbody>\n",
       "    <tr>\n",
       "      <th>2008</th>\n",
       "      <td>47846</td>\n",
       "      <td>31717</td>\n",
       "      <td>33470</td>\n",
       "    </tr>\n",
       "    <tr>\n",
       "      <th>2009</th>\n",
       "      <td>48456</td>\n",
       "      <td>31225</td>\n",
       "      <td>30623</td>\n",
       "    </tr>\n",
       "    <tr>\n",
       "      <th>2010</th>\n",
       "      <td>48116</td>\n",
       "      <td>31671</td>\n",
       "      <td>31320</td>\n",
       "    </tr>\n",
       "    <tr>\n",
       "      <th>2011</th>\n",
       "      <td>54243</td>\n",
       "      <td>33224</td>\n",
       "      <td>30723</td>\n",
       "    </tr>\n",
       "    <tr>\n",
       "      <th>2012</th>\n",
       "      <td>59226</td>\n",
       "      <td>33473</td>\n",
       "      <td>30737</td>\n",
       "    </tr>\n",
       "    <tr>\n",
       "      <th>2013</th>\n",
       "      <td>53852</td>\n",
       "      <td>31868</td>\n",
       "      <td>31128</td>\n",
       "    </tr>\n",
       "    <tr>\n",
       "      <th>2014</th>\n",
       "      <td>47564</td>\n",
       "      <td>31765</td>\n",
       "      <td>28912</td>\n",
       "    </tr>\n",
       "    <tr>\n",
       "      <th>2015</th>\n",
       "      <td>47395</td>\n",
       "      <td>33164</td>\n",
       "      <td>30260</td>\n",
       "    </tr>\n",
       "    <tr>\n",
       "      <th>2016</th>\n",
       "      <td>48330</td>\n",
       "      <td>34071</td>\n",
       "      <td>31636</td>\n",
       "    </tr>\n",
       "  </tbody>\n",
       "</table>\n",
       "</div>"
      ],
      "text/plain": [
       "      Westminster  Lambeth  Southwark\n",
       "2008        47846    31717      33470\n",
       "2009        48456    31225      30623\n",
       "2010        48116    31671      31320\n",
       "2011        54243    33224      30723\n",
       "2012        59226    33473      30737\n",
       "2013        53852    31868      31128\n",
       "2014        47564    31765      28912\n",
       "2015        47395    33164      30260\n",
       "2016        48330    34071      31636"
      ]
     },
     "execution_count": 16,
     "metadata": {},
     "output_type": "execute_result"
    }
   ],
   "source": [
    "df_histo_plot = df_histo.loc[['Westminster', 'Lambeth', 'Southwark'], years].transpose()\n",
    "df_histo_plot"
   ]
  },
  {
   "cell_type": "code",
   "execution_count": 17,
   "id": "fd8e6fbd",
   "metadata": {},
   "outputs": [
    {
     "name": "stdout",
     "output_type": "stream",
     "text": [
      "[5 8 5 0 0 0 0 0 0 6 0 0 2 0 1]\n",
      "[28912.         30932.93333333 32953.86666667 34974.8\n",
      " 36995.73333333 39016.66666667 41037.6        43058.53333333\n",
      " 45079.46666667 47100.4        49121.33333333 51142.26666667\n",
      " 53163.2        55184.13333333 57205.06666667 59226.        ]\n"
     ]
    },
    {
     "data": {
      "image/png": "[encoded data removed]",
      "text/plain": [
       "<Figure size 720x432 with 1 Axes>"
      ]
     },
     "metadata": {
      "needs_background": "light"
     },
     "output_type": "display_data"
    }
   ],
   "source": [
    "count, bin_edges = np.histogram(df_histo_plot, 15)\n",
    "print(count)\n",
    "print(bin_edges)\n",
    "\n",
    "xmin = bin_edges[0] - 10 # first bin value is 31.0, adding buffer of 10 for aesthetic purposes \n",
    "xmax = bin_edges [-1] + 10 # last bin value is 308.0, adding buffer of 10 for aesthetic purposes\n",
    "\n",
    "# un-stacked histogram\n",
    "df_histo_plot.plot(kind='hist',\n",
    "                   figsize=(10, 6),\n",
    "                   bins=15,\n",
    "                   alpha=0.6,\n",
    "                   xticks=bin_edges,\n",
    "                   color=['coral', 'darkslateblue', 'mediumseagreen'],\n",
    "                   stacked=True,\n",
    "                   xlim=(xmin, xmax)\n",
    "                   )\n",
    "plt.title('Histogram of Crime from Westminster, Lambeth, and Southwark from 2008 - 2016')\n",
    "plt.ylabel('Number of Years')\n",
    "plt.xlabel('Number of Crime')\n",
    "\n",
    "plt.show()"
   ]
  },
  {
   "cell_type": "markdown",
   "id": "6e8a79e6",
   "metadata": {},
   "source": [
    "**Conclusion**"
   ]
  },
  {
   "cell_type": "markdown",
   "id": "14d1085c",
   "metadata": {},
   "source": [
    "Pada plot di atas, sumbu x menunjukkan kisaran kasus kejahatan dalam interval 59226. Sumbu y mewakili tahun kasus tersebut terjadi. Kasus yang terjadi di Westminster tertinggi pada tahun 2012 sejumlah 49121 kasus."
   ]
  },
  {
   "cell_type": "markdown",
   "id": "2b75ef82",
   "metadata": {
    "id": "2b75ef82"
   },
   "source": [
    "---\n",
    "## C. Bar Chart\n"
   ]
  },
  {
   "cell_type": "markdown",
   "id": "27ce8860",
   "metadata": {
    "id": "1bdb3684"
   },
   "source": [
    "**Question:** \n",
    "1. Bagaimana jumlah kejahatan disetiap Major Category pada wilayah Westminster yang merupakan wilayah dengan kejahatan tertinggi?\n",
    "2. Pada Kejahatan Major tersebut, bagaimana jumlah kejahatan nya pada minor category?"
   ]
  },
  {
   "cell_type": "markdown",
   "id": "9987c553",
   "metadata": {},
   "source": [
    "**Answer 1**"
   ]
  },
  {
   "cell_type": "markdown",
   "id": "2158f29c",
   "metadata": {
    "id": "7ed02923"
   },
   "source": [
    "**Pre-processing as needed**"
   ]
  },
  {
   "cell_type": "code",
   "execution_count": 18,
   "id": "748547bf",
   "metadata": {},
   "outputs": [
    {
     "data": {
      "text/plain": [
       "Major Category\n",
       "Burglary                        29295\n",
       "Criminal Damage                 20405\n",
       "Drugs                           34031\n",
       "Fraud or Forgery                  273\n",
       "Other Notifiable Offences        6148\n",
       "Robbery                         15752\n",
       "Sexual Offences                    59\n",
       "Theft and Handling             277617\n",
       "Violence Against the Person     71448\n",
       "Name: Jumlah Kejahatan, dtype: int64"
      ]
     },
     "execution_count": 18,
     "metadata": {},
     "output_type": "execute_result"
    }
   ],
   "source": [
    "df_bar = df.loc[df['Wilayah'].isin(['Westminster'])].groupby(['Major Category']).sum()['Jumlah Kejahatan']\n",
    "df_bar"
   ]
  },
  {
   "cell_type": "markdown",
   "id": "071b598e",
   "metadata": {
    "id": "6f5d7382"
   },
   "source": [
    "**Create Visualization**"
   ]
  },
  {
   "cell_type": "code",
   "execution_count": 19,
   "id": "09606633",
   "metadata": {},
   "outputs": [
    {
     "data": {
      "image/png": "[encoded data removed]",
      "text/plain": [
       "<Figure size 720x720 with 1 Axes>"
      ]
     },
     "metadata": {
      "needs_background": "light"
     },
     "output_type": "display_data"
    }
   ],
   "source": [
    "# plot data\n",
    "df_bar.plot(kind='bar',\n",
    "            color='lawngreen',\n",
    "            figsize=(10, 10))\n",
    "\n",
    "plt.xlabel('Number of Crime')  # add to x-label to the plot\n",
    "plt.ylabel('Major Category')  # add y-label to the plot\n",
    "plt.title('Major Crime Category in Westminster')  # add title to the plot\n",
    "\n",
    "plt.show()"
   ]
  },
  {
   "cell_type": "markdown",
   "id": "651b8d37",
   "metadata": {},
   "source": [
    "**Conclusion**"
   ]
  },
  {
   "cell_type": "markdown",
   "id": "db796943",
   "metadata": {},
   "source": [
    "Major Category pada wilayah Westminster yang merupakan wilayah dengan kejahatan tertinggi adalah Theft and Handling dengan jumlah 277.617 kasus. "
   ]
  },
  {
   "cell_type": "markdown",
   "id": "95aa3533",
   "metadata": {},
   "source": [
    "**Answer 2**"
   ]
  },
  {
   "cell_type": "markdown",
   "id": "2d75d015",
   "metadata": {},
   "source": [
    "**Pre-processing as needed**"
   ]
  },
  {
   "cell_type": "code",
   "execution_count": 20,
   "id": "672e53dd",
   "metadata": {},
   "outputs": [
    {
     "data": {
      "text/plain": [
       "Minor Category\n",
       "Handling Stolen Goods                      16100\n",
       "Motor Vehicle Interference & Tampering     56224\n",
       "Other Theft                               980085\n",
       "Other Theft Person                        308842\n",
       "Theft From Motor Vehicle                  569956\n",
       "Theft From Shops                          345142\n",
       "Theft/Taking Of Motor Vehicle             216538\n",
       "Theft/Taking of Pedal Cycle               168974\n",
       "Name: Jumlah Kejahatan, dtype: int64"
      ]
     },
     "execution_count": 20,
     "metadata": {},
     "output_type": "execute_result"
    }
   ],
   "source": [
    "df_barh = df.loc[df['Major Category'].isin(['Theft and Handling'])].groupby(['Minor Category']).sum()['Jumlah Kejahatan']\n",
    "df_barh"
   ]
  },
  {
   "cell_type": "markdown",
   "id": "3e01d28f",
   "metadata": {},
   "source": [
    "**Create Visualization**"
   ]
  },
  {
   "cell_type": "code",
   "execution_count": 21,
   "id": "17148383",
   "metadata": {},
   "outputs": [
    {
     "data": {
      "image/png": "[encoded data removed]",
      "text/plain": [
       "<Figure size 720x720 with 1 Axes>"
      ]
     },
     "metadata": {
      "needs_background": "light"
     },
     "output_type": "display_data"
    }
   ],
   "source": [
    "# plot data\n",
    "df_barh.plot(kind='barh',\n",
    "            color='mediumorchid',\n",
    "            figsize=(10, 10))\n",
    "\n",
    "plt.xlabel('Number of Crime')  # add to x-label to the plot\n",
    "plt.ylabel('Theft and Handling')  # add y-label to the plot\n",
    "plt.title('Theft and Handling in Westminster')  # add title to the plot\n",
    "\n",
    "plt.show()"
   ]
  },
  {
   "cell_type": "markdown",
   "id": "03ea3cf1",
   "metadata": {
    "id": "8bf6dac3"
   },
   "source": [
    "**Conclusion**"
   ]
  },
  {
   "cell_type": "markdown",
   "id": "41b381ea",
   "metadata": {},
   "source": [
    "Pada Major Category Theft and Handling, Minor Category terbanyak adalah Other Theft dengan jumlah 980.085 Kasus selama tahun 2008-2016. Minor category kedua yaitu Theft from motor vehicle dengan jumlah 569.956 kasus pad tahun 2008-2016."
   ]
  },
  {
   "cell_type": "markdown",
   "id": "ec41a544",
   "metadata": {
    "id": "ec41a544"
   },
   "source": [
    "---\n",
    "## D. Pie Chart"
   ]
  },
  {
   "cell_type": "markdown",
   "id": "389f977d",
   "metadata": {
    "id": "adbf7cb7"
   },
   "source": [
    "**Question:** *Berapa Presentase jumlah kejahatan pada Major Category dari tahun 2008-2016?*"
   ]
  },
  {
   "cell_type": "markdown",
   "id": "41468ce7",
   "metadata": {
    "id": "105e6775"
   },
   "source": [
    "**Pre-processing as needed**"
   ]
  },
  {
   "cell_type": "code",
   "execution_count": 22,
   "id": "2a104421",
   "metadata": {},
   "outputs": [],
   "source": [
    "font1 = {'family': 'Monaco',\n",
    "         'color':  'black',\n",
    "         'weight': 'bold',\n",
    "         'size': 24,\n",
    "         }\n",
    "\n",
    "explode_list = [0.08, 0.06, 0.06, 0.06, 0.06, 0.06, 0.06, 0.1, 0.2]\n",
    "colors = ['salmon', 'aqua', 'fuchsia', 'gold', 'teal',\n",
    "          'blueviolet', 'orchid', 'coral', 'plum']"
   ]
  },
  {
   "cell_type": "code",
   "execution_count": 23,
   "id": "04aa7868",
   "metadata": {},
   "outputs": [
    {
     "data": {
      "text/html": [
       "<div>\n",
       "<style scoped>\n",
       "    .dataframe tbody tr th:only-of-type {\n",
       "        vertical-align: middle;\n",
       "    }\n",
       "\n",
       "    .dataframe tbody tr th {\n",
       "        vertical-align: top;\n",
       "    }\n",
       "\n",
       "    .dataframe thead th {\n",
       "        text-align: right;\n",
       "    }\n",
       "</style>\n",
       "<table border=\"1\" class=\"dataframe\">\n",
       "  <thead>\n",
       "    <tr style=\"text-align: right;\">\n",
       "      <th></th>\n",
       "      <th>2008</th>\n",
       "      <th>2009</th>\n",
       "      <th>2010</th>\n",
       "      <th>2011</th>\n",
       "      <th>2012</th>\n",
       "      <th>2013</th>\n",
       "      <th>2014</th>\n",
       "      <th>2015</th>\n",
       "      <th>2016</th>\n",
       "      <th>Total</th>\n",
       "    </tr>\n",
       "  </thead>\n",
       "  <tbody>\n",
       "    <tr>\n",
       "      <th>Burglary</th>\n",
       "      <td>88092</td>\n",
       "      <td>90619</td>\n",
       "      <td>86826</td>\n",
       "      <td>93315</td>\n",
       "      <td>93392</td>\n",
       "      <td>87222</td>\n",
       "      <td>76053</td>\n",
       "      <td>70489</td>\n",
       "      <td>68285</td>\n",
       "      <td>754293</td>\n",
       "    </tr>\n",
       "    <tr>\n",
       "      <th>Violence Against the Person</th>\n",
       "      <td>159844</td>\n",
       "      <td>160777</td>\n",
       "      <td>157894</td>\n",
       "      <td>146901</td>\n",
       "      <td>150014</td>\n",
       "      <td>146181</td>\n",
       "      <td>185349</td>\n",
       "      <td>218740</td>\n",
       "      <td>232381</td>\n",
       "      <td>1558081</td>\n",
       "    </tr>\n",
       "    <tr>\n",
       "      <th>Robbery</th>\n",
       "      <td>29627</td>\n",
       "      <td>29568</td>\n",
       "      <td>32341</td>\n",
       "      <td>36679</td>\n",
       "      <td>35260</td>\n",
       "      <td>29337</td>\n",
       "      <td>22150</td>\n",
       "      <td>21383</td>\n",
       "      <td>22528</td>\n",
       "      <td>258873</td>\n",
       "    </tr>\n",
       "    <tr>\n",
       "      <th>Theft and Handling</th>\n",
       "      <td>283692</td>\n",
       "      <td>279492</td>\n",
       "      <td>290924</td>\n",
       "      <td>309292</td>\n",
       "      <td>334054</td>\n",
       "      <td>306372</td>\n",
       "      <td>279880</td>\n",
       "      <td>284022</td>\n",
       "      <td>294133</td>\n",
       "      <td>2661861</td>\n",
       "    </tr>\n",
       "    <tr>\n",
       "      <th>Criminal Damage</th>\n",
       "      <td>91872</td>\n",
       "      <td>85565</td>\n",
       "      <td>77897</td>\n",
       "      <td>70914</td>\n",
       "      <td>62158</td>\n",
       "      <td>56206</td>\n",
       "      <td>59279</td>\n",
       "      <td>62976</td>\n",
       "      <td>64071</td>\n",
       "      <td>630938</td>\n",
       "    </tr>\n",
       "    <tr>\n",
       "      <th>Drugs</th>\n",
       "      <td>68804</td>\n",
       "      <td>60549</td>\n",
       "      <td>58674</td>\n",
       "      <td>57550</td>\n",
       "      <td>51776</td>\n",
       "      <td>50278</td>\n",
       "      <td>44435</td>\n",
       "      <td>39785</td>\n",
       "      <td>38914</td>\n",
       "      <td>470765</td>\n",
       "    </tr>\n",
       "    <tr>\n",
       "      <th>Fraud or Forgery</th>\n",
       "      <td>5325</td>\n",
       "      <td>0</td>\n",
       "      <td>0</td>\n",
       "      <td>0</td>\n",
       "      <td>0</td>\n",
       "      <td>0</td>\n",
       "      <td>0</td>\n",
       "      <td>0</td>\n",
       "      <td>0</td>\n",
       "      <td>5325</td>\n",
       "    </tr>\n",
       "    <tr>\n",
       "      <th>Other Notifiable Offences</th>\n",
       "      <td>10112</td>\n",
       "      <td>10644</td>\n",
       "      <td>10768</td>\n",
       "      <td>10264</td>\n",
       "      <td>10675</td>\n",
       "      <td>10811</td>\n",
       "      <td>13037</td>\n",
       "      <td>14229</td>\n",
       "      <td>15809</td>\n",
       "      <td>106349</td>\n",
       "    </tr>\n",
       "    <tr>\n",
       "      <th>Sexual Offences</th>\n",
       "      <td>1273</td>\n",
       "      <td>0</td>\n",
       "      <td>0</td>\n",
       "      <td>0</td>\n",
       "      <td>0</td>\n",
       "      <td>0</td>\n",
       "      <td>0</td>\n",
       "      <td>0</td>\n",
       "      <td>0</td>\n",
       "      <td>1273</td>\n",
       "    </tr>\n",
       "  </tbody>\n",
       "</table>\n",
       "</div>"
      ],
      "text/plain": [
       "                               2008    2009    2010    2011    2012    2013  \\\n",
       "Burglary                      88092   90619   86826   93315   93392   87222   \n",
       "Violence Against the Person  159844  160777  157894  146901  150014  146181   \n",
       "Robbery                       29627   29568   32341   36679   35260   29337   \n",
       "Theft and Handling           283692  279492  290924  309292  334054  306372   \n",
       "Criminal Damage               91872   85565   77897   70914   62158   56206   \n",
       "Drugs                         68804   60549   58674   57550   51776   50278   \n",
       "Fraud or Forgery               5325       0       0       0       0       0   \n",
       "Other Notifiable Offences     10112   10644   10768   10264   10675   10811   \n",
       "Sexual Offences                1273       0       0       0       0       0   \n",
       "\n",
       "                               2014    2015    2016    Total  \n",
       "Burglary                      76053   70489   68285   754293  \n",
       "Violence Against the Person  185349  218740  232381  1558081  \n",
       "Robbery                       22150   21383   22528   258873  \n",
       "Theft and Handling           279880  284022  294133  2661861  \n",
       "Criminal Damage               59279   62976   64071   630938  \n",
       "Drugs                         44435   39785   38914   470765  \n",
       "Fraud or Forgery                  0       0       0     5325  \n",
       "Other Notifiable Offences     13037   14229   15809   106349  \n",
       "Sexual Offences                   0       0       0     1273  "
      ]
     },
     "execution_count": 23,
     "metadata": {},
     "output_type": "execute_result"
    }
   ],
   "source": [
    "# Membuat data untuk kebutuhan pie chart\n",
    "pie = {}\n",
    "for year in years:\n",
    "    major_per_tahun = df[\n",
    "        df['Year'] == year\n",
    "    ].groupby('Major Category')['Jumlah Kejahatan'].sum()\n",
    "\n",
    "    # Series untuk dataframe baru\n",
    "    pie[year] = pd.Series(\n",
    "        data=map(int, major_per_tahun.reset_index()\n",
    "                 ['Jumlah Kejahatan'].values),\n",
    "        index=major_per_tahun.index\n",
    "    )\n",
    "\n",
    "# Membuat dataframe baru \n",
    "df_pie = pd.DataFrame(\n",
    "    columns=years,\n",
    "    index=major_categories,\n",
    "    data=pie\n",
    ")\n",
    "\n",
    "# Menambahkan kolom Total\n",
    "df_pie['Total'] = df_pie[years].sum(axis=1)\n",
    "\n",
    "# Tampilkan data\n",
    "df_pie"
   ]
  },
  {
   "cell_type": "markdown",
   "id": "36b19f97",
   "metadata": {
    "id": "a314e6ac"
   },
   "source": [
    "**Create Visualization**"
   ]
  },
  {
   "cell_type": "code",
   "execution_count": 24,
   "id": "cf2fb941",
   "metadata": {},
   "outputs": [
    {
     "data": {
      "image/png": "[encoded data removed]",
      "text/plain": [
       "<Figure size 1008x576 with 1 Axes>"
      ]
     },
     "metadata": {},
     "output_type": "display_data"
    }
   ],
   "source": [
    "df_pie['Total'].plot(kind='pie',\n",
    "                     figsize=(14, 8),\n",
    "                     autopct='%1.1f%%',\n",
    "                     startangle=90,\n",
    "                     shadow=True,\n",
    "                     labels=None,\n",
    "                     explode=explode_list,\n",
    "                     colors=colors,\n",
    "                     pctdistance=1.15,\n",
    "                     )\n",
    "\n",
    "plt.title('Percentage of Crime in London by Major Category 2008-2016',\n",
    "          y=1.12, x=0.5, fontsize=17)\n",
    "plt.ylabel('Number of Crime', fontsize=17, y=0.55)\n",
    "plt.axis('equal')\n",
    "\n",
    "# Legend\n",
    "plt.legend(labels=df_pie.index.values, loc='upper right')\n",
    "\n",
    "plt.show()"
   ]
  },
  {
   "cell_type": "markdown",
   "id": "500df07e",
   "metadata": {
    "id": "a75ee311"
   },
   "source": [
    "**Conclusion**"
   ]
  },
  {
   "cell_type": "markdown",
   "id": "dd18887f",
   "metadata": {},
   "source": [
    "Informasi yang bisa didapatkan dari pie chart diatas adalah:\n",
    "1. Kasus dengan posisi pertama di London dari tahun 2008-2016 adalah Theft and Handling yaitu sejumlah 41,3%.\n",
    "2. Kasus posisi kedua yaitu Violence Against the Person yaitu sejumlah 24,2%. \n",
    "3. Kasus yang jarang terjadi yaitu Sexual Offences dan Fraud or Forgery."
   ]
  },
  {
   "cell_type": "markdown",
   "id": "f7949b67",
   "metadata": {
    "id": "f7949b67"
   },
   "source": [
    "---\n",
    "## E. Box Plot"
   ]
  },
  {
   "cell_type": "markdown",
   "id": "82a80bc7",
   "metadata": {
    "id": "5fc9e170"
   },
   "source": [
    "**Question:** *Bagaimana representasi statistik dari total kasus kejahatan yang terjadi pada tahun 2008-2016 di London?*"
   ]
  },
  {
   "cell_type": "markdown",
   "id": "9b5eb436",
   "metadata": {
    "id": "704d2eec"
   },
   "source": [
    "**Pre-processing as needed**"
   ]
  },
  {
   "cell_type": "code",
   "execution_count": 25,
   "id": "60e1c75e",
   "metadata": {
    "scrolled": true
   },
   "outputs": [
    {
     "data": {
      "text/html": [
       "<div>\n",
       "<style scoped>\n",
       "    .dataframe tbody tr th:only-of-type {\n",
       "        vertical-align: middle;\n",
       "    }\n",
       "\n",
       "    .dataframe tbody tr th {\n",
       "        vertical-align: top;\n",
       "    }\n",
       "\n",
       "    .dataframe thead th {\n",
       "        text-align: right;\n",
       "    }\n",
       "</style>\n",
       "<table border=\"1\" class=\"dataframe\">\n",
       "  <thead>\n",
       "    <tr style=\"text-align: right;\">\n",
       "      <th></th>\n",
       "      <th>2008</th>\n",
       "      <th>2009</th>\n",
       "      <th>2010</th>\n",
       "      <th>2011</th>\n",
       "      <th>2012</th>\n",
       "      <th>2013</th>\n",
       "      <th>2014</th>\n",
       "      <th>2015</th>\n",
       "      <th>2016</th>\n",
       "      <th>Total</th>\n",
       "    </tr>\n",
       "  </thead>\n",
       "  <tbody>\n",
       "    <tr>\n",
       "      <th>Croydon</th>\n",
       "      <td>29516</td>\n",
       "      <td>29784</td>\n",
       "      <td>29373</td>\n",
       "      <td>29830</td>\n",
       "      <td>30189</td>\n",
       "      <td>27444</td>\n",
       "      <td>27357</td>\n",
       "      <td>28089</td>\n",
       "      <td>28712</td>\n",
       "      <td>260294</td>\n",
       "    </tr>\n",
       "    <tr>\n",
       "      <th>Greenwich</th>\n",
       "      <td>22010</td>\n",
       "      <td>19851</td>\n",
       "      <td>18626</td>\n",
       "      <td>18552</td>\n",
       "      <td>20028</td>\n",
       "      <td>18948</td>\n",
       "      <td>19894</td>\n",
       "      <td>20929</td>\n",
       "      <td>22730</td>\n",
       "      <td>181568</td>\n",
       "    </tr>\n",
       "    <tr>\n",
       "      <th>Bromley</th>\n",
       "      <td>24015</td>\n",
       "      <td>21858</td>\n",
       "      <td>19572</td>\n",
       "      <td>19868</td>\n",
       "      <td>19622</td>\n",
       "      <td>18945</td>\n",
       "      <td>19668</td>\n",
       "      <td>20637</td>\n",
       "      <td>20164</td>\n",
       "      <td>184349</td>\n",
       "    </tr>\n",
       "    <tr>\n",
       "      <th>Redbridge</th>\n",
       "      <td>20873</td>\n",
       "      <td>20837</td>\n",
       "      <td>20652</td>\n",
       "      <td>21994</td>\n",
       "      <td>21424</td>\n",
       "      <td>19793</td>\n",
       "      <td>19590</td>\n",
       "      <td>18897</td>\n",
       "      <td>19502</td>\n",
       "      <td>183562</td>\n",
       "    </tr>\n",
       "    <tr>\n",
       "      <th>Wandsworth</th>\n",
       "      <td>23330</td>\n",
       "      <td>23021</td>\n",
       "      <td>22815</td>\n",
       "      <td>21384</td>\n",
       "      <td>24457</td>\n",
       "      <td>22290</td>\n",
       "      <td>21364</td>\n",
       "      <td>22401</td>\n",
       "      <td>23679</td>\n",
       "      <td>204741</td>\n",
       "    </tr>\n",
       "  </tbody>\n",
       "</table>\n",
       "</div>"
      ],
      "text/plain": [
       "             2008   2009   2010   2011   2012   2013   2014   2015   2016  \\\n",
       "Croydon     29516  29784  29373  29830  30189  27444  27357  28089  28712   \n",
       "Greenwich   22010  19851  18626  18552  20028  18948  19894  20929  22730   \n",
       "Bromley     24015  21858  19572  19868  19622  18945  19668  20637  20164   \n",
       "Redbridge   20873  20837  20652  21994  21424  19793  19590  18897  19502   \n",
       "Wandsworth  23330  23021  22815  21384  24457  22290  21364  22401  23679   \n",
       "\n",
       "             Total  \n",
       "Croydon     260294  \n",
       "Greenwich   181568  \n",
       "Bromley     184349  \n",
       "Redbridge   183562  \n",
       "Wandsworth  204741  "
      ]
     },
     "execution_count": 25,
     "metadata": {},
     "output_type": "execute_result"
    }
   ],
   "source": [
    "# Membuat data untuk untuk kebutuhan box plot\n",
    "box = {}\n",
    "for year in years:\n",
    "    wilayah_tahun = df[\n",
    "        df['Year'] == year\n",
    "    ].groupby('Wilayah')['Jumlah Kejahatan'].sum()\n",
    "\n",
    "    # Series untuk dataframe baru\n",
    "    box[year] = pd.Series(\n",
    "        data=map(int, wilayah_tahun.reset_index()['Jumlah Kejahatan'].values),\n",
    "        index=wilayah_tahun.index\n",
    "    )\n",
    "\n",
    "# Membuat dataframe\n",
    "df_box = pd.DataFrame(\n",
    "    columns=years,\n",
    "    index=boroughs,\n",
    "    data=box\n",
    ")\n",
    "df_box['Total'] = df_box[years].sum(axis=1)\n",
    "\n",
    "# Tampilkan data\n",
    "df_box.head()"
   ]
  },
  {
   "cell_type": "markdown",
   "id": "b8016014",
   "metadata": {
    "id": "bd7e95bf"
   },
   "source": [
    "**Create Visualization**"
   ]
  },
  {
   "cell_type": "code",
   "execution_count": 26,
   "id": "a45040f5",
   "metadata": {},
   "outputs": [
    {
     "data": {
      "image/png": "[encoded data removed]",
      "text/plain": [
       "<Figure size 864x576 with 1 Axes>"
      ]
     },
     "metadata": {
      "needs_background": "light"
     },
     "output_type": "display_data"
    }
   ],
   "source": [
    "# Membuat box plot\n",
    "df_box[years].plot(kind='box', figsize=(12, 8))\n",
    "\n",
    "plt.xlabel('Years', fontsize=15)\n",
    "plt.ylabel('Total Crime Cases', fontsize=15)\n",
    "plt.title('Total crime cases that occurred in 2008-2016 in the city of London',\n",
    "          fontsize=16, y=1)\n",
    "\n",
    "plt.show()"
   ]
  },
  {
   "cell_type": "markdown",
   "id": "e7960372",
   "metadata": {
    "id": "9d92e7dd"
   },
   "source": [
    "**Conclusion**"
   ]
  },
  {
   "cell_type": "markdown",
   "id": "9547050f",
   "metadata": {},
   "source": [
    "Informasi yang bisa didapatkan dari boxplot diatas adalah:\n",
    "1. Range jumlah kejahatan yang terjadi dari tahun 2008-2016 memiliki range yang mirip, kecuali tahun 2012 karena data pada tahun tersebut lebih tersebar dibandingkan tahun sebelum dan sesudahnya.\n",
    "2. Rata-rata kasus kejahatan setiap wilayah tidak jauh beda, yaitu kisaran 20.000-25.000 kejadian setiap tahunnya. \n",
    "3. Muncul outlier pada box plot diatas karena ada tahun dimana total kasus kejahatan memiliki nilai yang cenderung meningkat drastis."
   ]
  },
  {
   "cell_type": "markdown",
   "id": "13b95330",
   "metadata": {
    "id": "13b95330"
   },
   "source": [
    "---\n",
    "## F. Scatter Plot"
   ]
  },
  {
   "cell_type": "markdown",
   "id": "db78da84",
   "metadata": {
    "id": "5fc9e170"
   },
   "source": [
    "**Question:** *Pada tahun 2012, kasus kejahatan meningkat, representasikan bagaimana sebaran kejahatan per bulan pada tahun tersebut?*"
   ]
  },
  {
   "cell_type": "markdown",
   "id": "4e9f5771",
   "metadata": {
    "id": "704d2eec"
   },
   "source": [
    "**Pre-processing as needed**"
   ]
  },
  {
   "cell_type": "code",
   "execution_count": 27,
   "id": "ff3a5f74",
   "metadata": {},
   "outputs": [],
   "source": [
    "df_scat = df.loc[df['Year'] == 2012]\n",
    "\n",
    "sum_month = df_scat.groupby(['Month']).sum()\n",
    "tot = sum_month['Jumlah Kejahatan'].to_numpy()\n",
    "name_month = ['Jan', 'Feb', 'Mar', 'Apr', 'May',\n",
    "              'Jun', 'Jul', 'Aug', 'Sep', 'Okt', 'Nov', 'Dec']\n",
    "n = np.arange(len(months))"
   ]
  },
  {
   "cell_type": "markdown",
   "id": "24a8fffb",
   "metadata": {
    "id": "bd7e95bf"
   },
   "source": [
    "**Create Visualization**"
   ]
  },
  {
   "cell_type": "code",
   "execution_count": 28,
   "id": "93010118",
   "metadata": {},
   "outputs": [
    {
     "data": {
      "image/png": "[encoded data removed]",
      "text/plain": [
       "<Figure size 864x576 with 1 Axes>"
      ]
     },
     "metadata": {
      "needs_background": "light"
     },
     "output_type": "display_data"
    }
   ],
   "source": [
    "plt.figure(figsize=(12, 8))\n",
    "ax = plt.axes()\n",
    "plt.scatter(months, tot, s=50, alpha=1)\n",
    "plt.title(\"Distribution Number of Crimes in 2012\", fontsize=16)\n",
    "plt.xlabel(\"Month\", fontsize=15)\n",
    "plt.ylabel(\"Number of Crime\", fontsize=15)\n",
    "plt.xticks(n, name_month)\n",
    "\n",
    "plt.grid()"
   ]
  },
  {
   "cell_type": "markdown",
   "id": "35508a01",
   "metadata": {
    "id": "40ecc2df"
   },
   "source": [
    "**Conclusion**"
   ]
  },
  {
   "cell_type": "markdown",
   "id": "82418482",
   "metadata": {},
   "source": [
    "Informasi yang bisa didapatkan dari scatter plot diatas adalah:\n",
    "1. Distribusi kejahatan tertinggi pada tahun 2012 adalah pada bulan April\n",
    "2. Distribusi kejahatan terendah pada tahun 2012 adalah bulan Maret\n",
    "3. Terdapat lonjakan kejahatan ekstrim pada bulan maret ke april"
   ]
  },
  {
   "cell_type": "markdown",
   "id": "2997d84d",
   "metadata": {
    "id": "2997d84d"
   },
   "source": [
    "## G. Word Clouds"
   ]
  },
  {
   "cell_type": "markdown",
   "id": "76651e6e",
   "metadata": {
    "id": "5fc9e170"
   },
   "source": [
    "**Question:** *Buat visualisasi world clouds dari wilayah di kota London?*"
   ]
  },
  {
   "cell_type": "markdown",
   "id": "9208b2c7",
   "metadata": {
    "id": "704d2eec"
   },
   "source": [
    "**Pre-processing as needed**"
   ]
  },
  {
   "cell_type": "code",
   "execution_count": 31,
   "id": "21b2786b",
   "metadata": {},
   "outputs": [],
   "source": [
    "df_wc = df['Wilayah']\n",
    "\n",
    "# Menyimpan daftar Wilayah ke file txt\n",
    "df_wc = df_wc.to_csv(\"./crime_in_borough.txt\",\n",
    "                     header=None, index=None, sep=' ', mode='a')\n",
    "\n",
    "# Membuka file\n",
    "wc = open('./crime_in_borough.txt', 'r').read()"
   ]
  },
  {
   "cell_type": "markdown",
   "id": "6822d132",
   "metadata": {
    "id": "bd7e95bf"
   },
   "source": [
    "**Create Visualization**"
   ]
  },
  {
   "cell_type": "code",
   "execution_count": 32,
   "id": "a2db4c14",
   "metadata": {},
   "outputs": [
    {
     "data": {
      "text/plain": [
       "<wordcloud.wordcloud.WordCloud at 0x214157495b0>"
      ]
     },
     "execution_count": 32,
     "metadata": {},
     "output_type": "execute_result"
    }
   ],
   "source": [
    "# Menghapus stopword\n",
    "stopwords = set(STOPWORDS)\n",
    "\n",
    "# Inisiasi wordcloud\n",
    "wcl = WordCloud(\n",
    "    background_color='white',\n",
    "    max_words=1000,\n",
    "    stopwords=stopwords)\n",
    "\n",
    "# Generate wordcloud\n",
    "wcl.generate(wc)"
   ]
  },
  {
   "cell_type": "code",
   "execution_count": 33,
   "id": "ba3336f0",
   "metadata": {
    "scrolled": true
   },
   "outputs": [
    {
     "data": {
      "text/plain": [
       "(-0.5, 399.5, 199.5, -0.5)"
      ]
     },
     "execution_count": 33,
     "metadata": {},
     "output_type": "execute_result"
    },
    {
     "data": {
      "image/png": "[encoded data removed]",
      "text/plain": [
       "<Figure size 432x288 with 1 Axes>"
      ]
     },
     "metadata": {
      "needs_background": "light"
     },
     "output_type": "display_data"
    }
   ],
   "source": [
    "# Tampilkan wordcloud\n",
    "plt.imshow(wcl, interpolation='bilinear')\n",
    "plt.axis('off')"
   ]
  },
  {
   "cell_type": "markdown",
   "id": "bb2d4edf",
   "metadata": {
    "id": "9d92e7dd"
   },
   "source": [
    "**Conclusion**"
   ]
  },
  {
   "cell_type": "markdown",
   "id": "32d18362",
   "metadata": {
    "id": "8716e6e5"
   },
   "source": [
    "Dari tampilan wordcloud diatas terdapat 3 wilayah yang tercetak dengan huruf yang lebih besar dibandingkan dengan yang lain. 3 wilayah tersebut ialah upon Thames, Tower Hamlets dan Waltham Forest. Sehingga dapat disimpulkan bahwa 3 wilayah tersebut muncul karena tingkat kejahatan yang beragam dan banyak terjadi."
   ]
  },
  {
   "cell_type": "markdown",
   "id": "a3e42278",
   "metadata": {},
   "source": [
    "# Overall Analysis"
   ]
  },
  {
   "cell_type": "markdown",
   "id": "ddfb636b",
   "metadata": {},
   "source": [
    "**Analisis Data :** \n",
    "\n",
    "Data asli dari London Crime Dataset berisi 13.490.604 baris dan 7 kolom. Dengan kolom lsoa_code, borough, major_category, minor_category, value, year, dan month. Agar lebih mudah dalam memahami data, saya merubah nama kolom menjadi Kode Area, Wilayah, Major Category, Minor Category, Jumlah Kejahatan, Year, dan Month. \n",
    "Dari dataset london terdapat data types int64(3) dan object(4), serta menggunakan memory 720.5+ MB. \n",
    "Tidak ada data yang kosong atau null value dari london crime dataset. Data juga tidak terdapat duplicate sehingga data sudah siap untuk dilakukan visualisasi.\n",
    "\n",
    "**Dari hasil analisis plot area, didapatkan informasi bahwa:**\n",
    "1. Terdapat 9 Major Category yaitu 'Burglary' 'Violence Against the Person' 'Robbery' 'Theft and Handling' 'Criminal Damage' 'Drugs' 'Fraud or Forgery' 'Other Notifiable Offences' 'Sexual Offences'\n",
    "2. Theft and Handling menjadi kasus terbanyak yang terjadi dari tahun 2008-2016 dengan jumlah kasus pertahun mencapai lebih dari 27000 kasus. Total kasus Theft and Handling selama 2008-2016 sejumlah 2.661.861 kasus. \n",
    "3. Theft and handling paling parah terjadi pada tahun 2012 yang mencapai lebih dari 33000 kasus pada tahun tersebut. \n",
    "4. Violence Against the Person menduduki kasus kedua terbanyak setelah Theft and Handling dengan jumlah kasus 1.558.081. Kasus ini terus meningkat sejak tahun 2013.\n",
    "\n",
    "Hasil analisis **Histogram**, sumbu x menunjukkan kisaran kasus kejahatan dalam interval 59226. Sumbu y mewakili tahun kasus tersebut terjadi. Kasus yang terjadi di Westminster tertinggi pada tahun 2012 sejumlah 49121 kasus.\n",
    "\n",
    "Hasil analisis **Bar Chart**, Major Category pada wilayah Westminster yang merupakan wilayah dengan kejahatan tertinggi adalah Theft and Handling dengan jumlah 277.617 kasus. \n",
    "\n",
    "Hasil analisis **Bar Chart Horizontal** Pada Major Category Theft and Handling, Minor Category terbanyak adalah Other Theft dengan jumlah 980.085 Kasus selama tahun 2008-2016. Minor category kedua yaitu Theft from motor vehicle dengan jumlah 569.956 kasus pad tahun 2008-2016.\n",
    "\n",
    "**Dari hasil analisis pie chart, didapatkan informasi bahwa:**\n",
    "1. Kasus dengan posisi pertama di London dari tahun 2008-2016 adalah Theft and Handling yaitu sejumlah 41,3%.\n",
    "2. Kasus posisi kedua yaitu Violence Against the Person yaitu sejumlah 24,2%. \n",
    "3. Kasus yang jarang terjadi yaitu Sexual Offences dan Fraud or Forgery.\n",
    "\n",
    "**Dari hasil analisis boxplot, didapatkan informasi bahwa:**\n",
    "1. Range jumlah kejahatan yang terjadi dari tahun 2008-2016 memiliki range yang mirip, kecuali tahun 2012 karena data pada tahun tersebut lebih tersebar dibandingkan tahun sebelum dan sesudahnya.\n",
    "2. Rata-rata kasus kejahatan setiap wilayah tidak jauh beda, yaitu kisaran 20.000-25.000 kejadian setiap tahunnya. \n",
    "3. Muncul outlier pada box plot diatas karena ada tahun dimana total kasus kejahatan memiliki nilai yang cenderung meningkat drastis.\n",
    "\n",
    "**Dari hasil analisis scatter plot, didapatkan informasi bahwa:**\n",
    "1. Distribusi kejahatan tertinggi pada tahun 2012 adalah pada bulan April\n",
    "2. Distribusi kejahatan terendah pada tahun 2012 adalah bulan Maret\n",
    "3. Terdapat lonjakan kejahatan ekstrim pada bulan maret ke april\n",
    "\n",
    "Hasil analisis **Wordcloud**, terdapat 3 wilayah yang tercetak dengan huruf yang lebih besar dibandingkan dengan yang lain. 3 wilayah tersebut ialah upon Thames, Tower Hamlets dan Waltham Forest. Sehingga dapat disimpulkan bahwa 3 wilayah tersebut muncul karena tingkat kejahatan yang beragam dan banyak terjadi."
   ]
  }
 ],
 "metadata": {
  "kernelspec": {
   "display_name": "Python 3 (ipykernel)",
   "language": "python",
   "name": "python3"
  },
  "language_info": {
   "codemirror_mode": {
    "name": "ipython",
    "version": 3
   },
   "file_extension": ".py",
   "mimetype": "text/x-python",
   "name": "python",
   "nbconvert_exporter": "python",
   "pygments_lexer": "ipython3",
   "version": "3.9.7"
  },
  "toc": {
   "base_numbering": 1,
   "nav_menu": {},
   "number_sections": false,
   "sideBar": true,
   "skip_h1_title": false,
   "title_cell": "Table of Contents",
   "title_sidebar": "Contents",
   "toc_cell": false,
   "toc_position": {},
   "toc_section_display": true,
   "toc_window_display": true
  }
 },
 "nbformat": 4,
 "nbformat_minor": 5
}
